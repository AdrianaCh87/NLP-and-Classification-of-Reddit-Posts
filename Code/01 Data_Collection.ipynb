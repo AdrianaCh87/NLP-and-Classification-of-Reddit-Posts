{
 "cells": [
  {
   "cell_type": "markdown",
   "metadata": {},
   "source": [
    "## Data Collection"
   ]
  },
  {
   "cell_type": "code",
   "execution_count": 1,
   "metadata": {},
   "outputs": [
    {
     "name": "stdout",
     "output_type": "stream",
     "text": [
      "Requirement already satisfied: praw in /Users/adrianachacon/opt/anaconda3/lib/python3.8/site-packages (7.1.0)\n",
      "Requirement already satisfied: websocket-client>=0.54.0 in /Users/adrianachacon/opt/anaconda3/lib/python3.8/site-packages (from praw) (0.57.0)\n",
      "Requirement already satisfied: update-checker>=0.17 in /Users/adrianachacon/opt/anaconda3/lib/python3.8/site-packages (from praw) (0.18.0)\n",
      "Requirement already satisfied: prawcore<2.0,>=1.3.0 in /Users/adrianachacon/opt/anaconda3/lib/python3.8/site-packages (from praw) (1.5.0)\n",
      "Requirement already satisfied: six in /Users/adrianachacon/opt/anaconda3/lib/python3.8/site-packages (from websocket-client>=0.54.0->praw) (1.15.0)\n",
      "Requirement already satisfied: requests>=2.3.0 in /Users/adrianachacon/opt/anaconda3/lib/python3.8/site-packages (from update-checker>=0.17->praw) (2.24.0)\n",
      "Requirement already satisfied: certifi>=2017.4.17 in /Users/adrianachacon/opt/anaconda3/lib/python3.8/site-packages (from requests>=2.3.0->update-checker>=0.17->praw) (2020.6.20)\n",
      "Requirement already satisfied: idna<3,>=2.5 in /Users/adrianachacon/opt/anaconda3/lib/python3.8/site-packages (from requests>=2.3.0->update-checker>=0.17->praw) (2.10)\n",
      "Requirement already satisfied: chardet<4,>=3.0.2 in /Users/adrianachacon/opt/anaconda3/lib/python3.8/site-packages (from requests>=2.3.0->update-checker>=0.17->praw) (3.0.4)\n",
      "Requirement already satisfied: urllib3!=1.25.0,!=1.25.1,<1.26,>=1.21.1 in /Users/adrianachacon/opt/anaconda3/lib/python3.8/site-packages (from requests>=2.3.0->update-checker>=0.17->praw) (1.25.9)\n"
     ]
    }
   ],
   "source": [
    "!pip install praw"
   ]
  },
  {
   "cell_type": "code",
   "execution_count": 3,
   "metadata": {},
   "outputs": [],
   "source": [
    "import praw\n",
    "import pandas as pd"
   ]
  },
  {
   "cell_type": "code",
   "execution_count": 3,
   "metadata": {},
   "outputs": [],
   "source": [
    "# Info for the wrapper to pull from the API.\n",
    "# reddit = praw.Reddit(client_id = 'OMakJX1bCFXJ6g',     #this is that personal use script key\n",
    "#                      client_secret = '', #this is that secret key\n",
    "#                      user_agent = '',    #Whatever name you gave your application\n",
    "#                      username = '',      #your Reddit user name\n",
    "#                      password = '')  "
   ]
  },
  {
   "cell_type": "code",
   "execution_count": 4,
   "metadata": {},
   "outputs": [],
   "source": [
    "subreddit_1 = reddit.subreddit('FakeFacts') \n",
    "subreddit_2 = reddit.subreddit('science')"
   ]
  },
  {
   "cell_type": "code",
   "execution_count": 5,
   "metadata": {},
   "outputs": [],
   "source": [
    "# Use top posts to get the subreddits and choose the max amount for number of posts (1000) \n",
    "subreddit_new = subreddit_1.top(limit = 1000)\n",
    "subreddit_new_2 = subreddit_2.top(limit = 1000)"
   ]
  },
  {
   "cell_type": "code",
   "execution_count": 6,
   "metadata": {},
   "outputs": [],
   "source": [
    "# Set up topics_dict dictionary to store the data from subreddit 1\n",
    "topics_dict = { \"title\":[],\n",
    "                \"score\":[],\n",
    "                \"id\":[],\n",
    "                \"url\":[], \n",
    "                \"comms_num\": [],\n",
    "                \"created\": [],\n",
    "                \"body\":[]}\n",
    "\n",
    "#Use a for loop to take the posts gathered by the wrapper and place them into a dictionary.\n",
    "\n",
    "for item in subreddit_new:\n",
    "    topics_dict[\"title\"].append(item.title)\n",
    "    topics_dict[\"score\"].append(item.score)\n",
    "    topics_dict[\"id\"].append(item.id)\n",
    "    topics_dict[\"url\"].append(item.url)\n",
    "    topics_dict[\"comms_num\"].append(item.num_comments)\n",
    "    topics_dict[\"created\"].append(item.created)\n",
    "    topics_dict[\"body\"].append(item.selftext)"
   ]
  },
  {
   "cell_type": "code",
   "execution_count": 7,
   "metadata": {},
   "outputs": [],
   "source": [
    "# Set up topics_dict2 dictionary to store the data from subreddit 1\n",
    "topics_dict2 = { \"title\":[],\n",
    "                \"score\":[],\n",
    "                \"id\":[],\n",
    "                \"url\":[], \n",
    "                \"comms_num\": [],\n",
    "                \"created\": [],\n",
    "                \"body\":[]}\n",
    "\n",
    "\n",
    "for item in subreddit_new_2:\n",
    "    topics_dict2[\"title\"].append(item.title)\n",
    "    topics_dict2[\"score\"].append(item.score)\n",
    "    topics_dict2[\"id\"].append(item.id)\n",
    "    topics_dict2[\"url\"].append(item.url)\n",
    "    topics_dict2[\"comms_num\"].append(item.num_comments)\n",
    "    topics_dict2[\"created\"].append(item.created)\n",
    "    topics_dict2[\"body\"].append(item.selftext)"
   ]
  },
  {
   "cell_type": "code",
   "execution_count": 8,
   "metadata": {},
   "outputs": [],
   "source": [
    "# Convert dictionaries to DataFrames\n",
    "df1 = pd.DataFrame(topics_dict)"
   ]
  },
  {
   "cell_type": "code",
   "execution_count": 9,
   "metadata": {},
   "outputs": [],
   "source": [
    "df2 = pd.DataFrame(topics_dict2)"
   ]
  },
  {
   "cell_type": "code",
   "execution_count": 10,
   "metadata": {},
   "outputs": [],
   "source": [
    "# Add subreddit name to each DataFrame to differentiate\n",
    "df1['subreddit'] = 'fakefacts'"
   ]
  },
  {
   "cell_type": "code",
   "execution_count": 11,
   "metadata": {},
   "outputs": [],
   "source": [
    "df2['subreddit'] = 'science'"
   ]
  },
  {
   "cell_type": "code",
   "execution_count": 12,
   "metadata": {},
   "outputs": [
    {
     "data": {
      "text/html": [
       "<div>\n",
       "<style scoped>\n",
       "    .dataframe tbody tr th:only-of-type {\n",
       "        vertical-align: middle;\n",
       "    }\n",
       "\n",
       "    .dataframe tbody tr th {\n",
       "        vertical-align: top;\n",
       "    }\n",
       "\n",
       "    .dataframe thead th {\n",
       "        text-align: right;\n",
       "    }\n",
       "</style>\n",
       "<table border=\"1\" class=\"dataframe\">\n",
       "  <thead>\n",
       "    <tr style=\"text-align: right;\">\n",
       "      <th></th>\n",
       "      <th>title</th>\n",
       "      <th>score</th>\n",
       "      <th>id</th>\n",
       "      <th>url</th>\n",
       "      <th>comms_num</th>\n",
       "      <th>created</th>\n",
       "      <th>body</th>\n",
       "      <th>subreddit</th>\n",
       "    </tr>\n",
       "  </thead>\n",
       "  <tbody>\n",
       "    <tr>\n",
       "      <th>0</th>\n",
       "      <td>Before his death, John F. Kennedy's original n...</td>\n",
       "      <td>881</td>\n",
       "      <td>9hp7cr</td>\n",
       "      <td>https://www.reddit.com/r/FakeFacts/comments/9h...</td>\n",
       "      <td>37</td>\n",
       "      <td>1.537561e+09</td>\n",
       "      <td></td>\n",
       "      <td>fakefacts</td>\n",
       "    </tr>\n",
       "    <tr>\n",
       "      <th>1</th>\n",
       "      <td>Jumping was created by Thomas Jump when he tri...</td>\n",
       "      <td>761</td>\n",
       "      <td>9va584</td>\n",
       "      <td>https://www.reddit.com/r/FakeFacts/comments/9v...</td>\n",
       "      <td>57</td>\n",
       "      <td>1.541714e+09</td>\n",
       "      <td></td>\n",
       "      <td>fakefacts</td>\n",
       "    </tr>\n",
       "    <tr>\n",
       "      <th>2</th>\n",
       "      <td>until 1939, H2O wasn't water. Water was origin...</td>\n",
       "      <td>731</td>\n",
       "      <td>9uwj3y</td>\n",
       "      <td>https://www.reddit.com/r/FakeFacts/comments/9u...</td>\n",
       "      <td>12</td>\n",
       "      <td>1.541597e+09</td>\n",
       "      <td></td>\n",
       "      <td>fakefacts</td>\n",
       "    </tr>\n",
       "    <tr>\n",
       "      <th>3</th>\n",
       "      <td>If you changed the date on your iPhone to one ...</td>\n",
       "      <td>653</td>\n",
       "      <td>9uficc</td>\n",
       "      <td>https://www.reddit.com/r/FakeFacts/comments/9u...</td>\n",
       "      <td>9</td>\n",
       "      <td>1.541468e+09</td>\n",
       "      <td></td>\n",
       "      <td>fakefacts</td>\n",
       "    </tr>\n",
       "    <tr>\n",
       "      <th>4</th>\n",
       "      <td>A Female Peacock is Called a Peacunt</td>\n",
       "      <td>640</td>\n",
       "      <td>9vdks8</td>\n",
       "      <td>https://www.reddit.com/r/FakeFacts/comments/9v...</td>\n",
       "      <td>21</td>\n",
       "      <td>1.541737e+09</td>\n",
       "      <td>Edit: Thanks for the Silver!</td>\n",
       "      <td>fakefacts</td>\n",
       "    </tr>\n",
       "  </tbody>\n",
       "</table>\n",
       "</div>"
      ],
      "text/plain": [
       "                                               title  score      id  \\\n",
       "0  Before his death, John F. Kennedy's original n...    881  9hp7cr   \n",
       "1  Jumping was created by Thomas Jump when he tri...    761  9va584   \n",
       "2  until 1939, H2O wasn't water. Water was origin...    731  9uwj3y   \n",
       "3  If you changed the date on your iPhone to one ...    653  9uficc   \n",
       "4               A Female Peacock is Called a Peacunt    640  9vdks8   \n",
       "\n",
       "                                                 url  comms_num       created  \\\n",
       "0  https://www.reddit.com/r/FakeFacts/comments/9h...         37  1.537561e+09   \n",
       "1  https://www.reddit.com/r/FakeFacts/comments/9v...         57  1.541714e+09   \n",
       "2  https://www.reddit.com/r/FakeFacts/comments/9u...         12  1.541597e+09   \n",
       "3  https://www.reddit.com/r/FakeFacts/comments/9u...          9  1.541468e+09   \n",
       "4  https://www.reddit.com/r/FakeFacts/comments/9v...         21  1.541737e+09   \n",
       "\n",
       "                           body  subreddit  \n",
       "0                                fakefacts  \n",
       "1                                fakefacts  \n",
       "2                                fakefacts  \n",
       "3                                fakefacts  \n",
       "4  Edit: Thanks for the Silver!  fakefacts  "
      ]
     },
     "execution_count": 12,
     "metadata": {},
     "output_type": "execute_result"
    }
   ],
   "source": [
    "# Preview df1\n",
    "df1.head()"
   ]
  },
  {
   "cell_type": "code",
   "execution_count": 13,
   "metadata": {},
   "outputs": [],
   "source": [
    "# Save subreddit 1 to a csv file for future reference\n",
    "df1.to_csv('../data/fakefacts_subreddit.csv', index = False)"
   ]
  },
  {
   "cell_type": "code",
   "execution_count": 14,
   "metadata": {
    "scrolled": true
   },
   "outputs": [
    {
     "data": {
      "text/html": [
       "<div>\n",
       "<style scoped>\n",
       "    .dataframe tbody tr th:only-of-type {\n",
       "        vertical-align: middle;\n",
       "    }\n",
       "\n",
       "    .dataframe tbody tr th {\n",
       "        vertical-align: top;\n",
       "    }\n",
       "\n",
       "    .dataframe thead th {\n",
       "        text-align: right;\n",
       "    }\n",
       "</style>\n",
       "<table border=\"1\" class=\"dataframe\">\n",
       "  <thead>\n",
       "    <tr style=\"text-align: right;\">\n",
       "      <th></th>\n",
       "      <th>title</th>\n",
       "      <th>score</th>\n",
       "      <th>id</th>\n",
       "      <th>url</th>\n",
       "      <th>comms_num</th>\n",
       "      <th>created</th>\n",
       "      <th>body</th>\n",
       "      <th>subreddit</th>\n",
       "    </tr>\n",
       "  </thead>\n",
       "  <tbody>\n",
       "    <tr>\n",
       "      <th>0</th>\n",
       "      <td>Physicist Stephen Hawking dies aged 76</td>\n",
       "      <td>199294</td>\n",
       "      <td>84aiy6</td>\n",
       "      <td>https://www.reddit.com/r/science/comments/84ai...</td>\n",
       "      <td>3891</td>\n",
       "      <td>1.521029e+09</td>\n",
       "      <td>We regret to hear that [Stephen Hawking died t...</td>\n",
       "      <td>science</td>\n",
       "    </tr>\n",
       "    <tr>\n",
       "      <th>1</th>\n",
       "      <td>The first picture of a black hole opens a new ...</td>\n",
       "      <td>155295</td>\n",
       "      <td>bblu6v</td>\n",
       "      <td>https://www.sciencenews.org/article/black-hole...</td>\n",
       "      <td>5587</td>\n",
       "      <td>1.554931e+09</td>\n",
       "      <td></td>\n",
       "      <td>science</td>\n",
       "    </tr>\n",
       "    <tr>\n",
       "      <th>2</th>\n",
       "      <td>Since legalizing cannabis in 2012, crime clear...</td>\n",
       "      <td>124696</td>\n",
       "      <td>90adse</td>\n",
       "      <td>https://www.google.com/amp/s/www.washingtonpos...</td>\n",
       "      <td>4803</td>\n",
       "      <td>1.532068e+09</td>\n",
       "      <td></td>\n",
       "      <td>science</td>\n",
       "    </tr>\n",
       "    <tr>\n",
       "      <th>3</th>\n",
       "      <td>Raising the taxes of graduate students by as m...</td>\n",
       "      <td>124375</td>\n",
       "      <td>7e1jo1</td>\n",
       "      <td>https://www.reddit.com/r/science/comments/7e1j...</td>\n",
       "      <td>11028</td>\n",
       "      <td>1.511137e+09</td>\n",
       "      <td>Science and technology development has been th...</td>\n",
       "      <td>science</td>\n",
       "    </tr>\n",
       "    <tr>\n",
       "      <th>4</th>\n",
       "      <td>No evidence to support link between violent vi...</td>\n",
       "      <td>114564</td>\n",
       "      <td>7s6a9z</td>\n",
       "      <td>https://www.york.ac.uk/news-and-events/news/20...</td>\n",
       "      <td>3814</td>\n",
       "      <td>1.516662e+09</td>\n",
       "      <td></td>\n",
       "      <td>science</td>\n",
       "    </tr>\n",
       "  </tbody>\n",
       "</table>\n",
       "</div>"
      ],
      "text/plain": [
       "                                               title   score      id  \\\n",
       "0             Physicist Stephen Hawking dies aged 76  199294  84aiy6   \n",
       "1  The first picture of a black hole opens a new ...  155295  bblu6v   \n",
       "2  Since legalizing cannabis in 2012, crime clear...  124696  90adse   \n",
       "3  Raising the taxes of graduate students by as m...  124375  7e1jo1   \n",
       "4  No evidence to support link between violent vi...  114564  7s6a9z   \n",
       "\n",
       "                                                 url  comms_num       created  \\\n",
       "0  https://www.reddit.com/r/science/comments/84ai...       3891  1.521029e+09   \n",
       "1  https://www.sciencenews.org/article/black-hole...       5587  1.554931e+09   \n",
       "2  https://www.google.com/amp/s/www.washingtonpos...       4803  1.532068e+09   \n",
       "3  https://www.reddit.com/r/science/comments/7e1j...      11028  1.511137e+09   \n",
       "4  https://www.york.ac.uk/news-and-events/news/20...       3814  1.516662e+09   \n",
       "\n",
       "                                                body subreddit  \n",
       "0  We regret to hear that [Stephen Hawking died t...   science  \n",
       "1                                                      science  \n",
       "2                                                      science  \n",
       "3  Science and technology development has been th...   science  \n",
       "4                                                      science  "
      ]
     },
     "execution_count": 14,
     "metadata": {},
     "output_type": "execute_result"
    }
   ],
   "source": [
    "# Preview df2\n",
    "df2.head()"
   ]
  },
  {
   "cell_type": "code",
   "execution_count": 15,
   "metadata": {},
   "outputs": [],
   "source": [
    "# Save subreddit 2 to a csv file for future reference\n",
    "df2.to_csv('../data/sciencesubreddits.csv', index = False)"
   ]
  },
  {
   "cell_type": "code",
   "execution_count": 6,
   "metadata": {},
   "outputs": [],
   "source": [
    "# Combine df1 and df2\n",
    "df_all = pd.concat([df1, df2])"
   ]
  },
  {
   "cell_type": "code",
   "execution_count": 8,
   "metadata": {},
   "outputs": [
    {
     "data": {
      "text/plain": [
       "(981, 8)"
      ]
     },
     "execution_count": 8,
     "metadata": {},
     "output_type": "execute_result"
    }
   ],
   "source": [
    "df1.shape"
   ]
  },
  {
   "cell_type": "code",
   "execution_count": 9,
   "metadata": {},
   "outputs": [
    {
     "data": {
      "text/plain": [
       "(990, 8)"
      ]
     },
     "execution_count": 9,
     "metadata": {},
     "output_type": "execute_result"
    }
   ],
   "source": [
    "df2.shape"
   ]
  },
  {
   "cell_type": "code",
   "execution_count": 10,
   "metadata": {},
   "outputs": [
    {
     "data": {
      "text/plain": [
       "(1971, 8)"
      ]
     },
     "execution_count": 10,
     "metadata": {},
     "output_type": "execute_result"
    }
   ],
   "source": [
    "# Number of total posts retrieved\n",
    "df_all.shape"
   ]
  },
  {
   "cell_type": "code",
   "execution_count": 11,
   "metadata": {},
   "outputs": [],
   "source": [
    "# Saved combined dataframe to a csv file and export to data folder\n",
    "df_all.to_csv('../data/subreddits_combined.csv', index = False)"
   ]
  },
  {
   "cell_type": "code",
   "execution_count": null,
   "metadata": {},
   "outputs": [],
   "source": []
  }
 ],
 "metadata": {
  "kernelspec": {
   "display_name": "Python 3",
   "language": "python",
   "name": "python3"
  },
  "language_info": {
   "codemirror_mode": {
    "name": "ipython",
    "version": 3
   },
   "file_extension": ".py",
   "mimetype": "text/x-python",
   "name": "python",
   "nbconvert_exporter": "python",
   "pygments_lexer": "ipython3",
   "version": "3.8.3"
  }
 },
 "nbformat": 4,
 "nbformat_minor": 4
}
