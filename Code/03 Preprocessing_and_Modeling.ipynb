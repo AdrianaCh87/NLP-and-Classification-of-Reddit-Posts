{
 "cells": [
  {
   "cell_type": "code",
   "execution_count": 2,
   "metadata": {},
   "outputs": [],
   "source": [
    "import pandas as pd\n",
    "import numpy as np\n",
    "\n",
    "from sklearn.pipeline import Pipeline\n",
    "from sklearn.model_selection import train_test_split, GridSearchCV, cross_val_score\n",
    "\n",
    "# Classifiers\n",
    "from sklearn.linear_model import LogisticRegression\n",
    "from sklearn.naive_bayes import MultinomialNB\n",
    "from sklearn.ensemble import RandomForestClassifier, ExtraTreesClassifier\n",
    "\n",
    "# Vectorizers \n",
    "from sklearn.feature_extraction.text import CountVectorizer, TfidfVectorizer\n",
    "\n",
    "# Metrics\n",
    "from sklearn.metrics import confusion_matrix, plot_confusion_matrix"
   ]
  },
  {
   "cell_type": "code",
   "execution_count": 3,
   "metadata": {},
   "outputs": [],
   "source": [
    "# Load Data\n",
    "# Insert the combined subreddits and cleaned data - output file from notebook: 02 Data_cleaning and EDA \n",
    "combined_cleaned_posts = 'subreddits_extra_features.csv'\n",
    "\n",
    "posts = pd.read_csv('../data/' + combined_cleaned_posts)"
   ]
  },
  {
   "cell_type": "code",
   "execution_count": 4,
   "metadata": {},
   "outputs": [
    {
     "data": {
      "text/html": [
       "<div>\n",
       "<style scoped>\n",
       "    .dataframe tbody tr th:only-of-type {\n",
       "        vertical-align: middle;\n",
       "    }\n",
       "\n",
       "    .dataframe tbody tr th {\n",
       "        vertical-align: top;\n",
       "    }\n",
       "\n",
       "    .dataframe thead th {\n",
       "        text-align: right;\n",
       "    }\n",
       "</style>\n",
       "<table border=\"1\" class=\"dataframe\">\n",
       "  <thead>\n",
       "    <tr style=\"text-align: right;\">\n",
       "      <th></th>\n",
       "      <th>title</th>\n",
       "      <th>score</th>\n",
       "      <th>id</th>\n",
       "      <th>url</th>\n",
       "      <th>comms_num</th>\n",
       "      <th>created</th>\n",
       "      <th>body</th>\n",
       "      <th>subreddit_science</th>\n",
       "    </tr>\n",
       "  </thead>\n",
       "  <tbody>\n",
       "    <tr>\n",
       "      <th>0</th>\n",
       "      <td>Before his death, John F. Kennedy's original n...</td>\n",
       "      <td>881</td>\n",
       "      <td>9hp7cr</td>\n",
       "      <td>https://www.reddit.com/r/FakeFacts/comments/9h...</td>\n",
       "      <td>37</td>\n",
       "      <td>1.537561e+09</td>\n",
       "      <td>NaN</td>\n",
       "      <td>0</td>\n",
       "    </tr>\n",
       "    <tr>\n",
       "      <th>1</th>\n",
       "      <td>Jumping was created by Thomas Jump when he tri...</td>\n",
       "      <td>761</td>\n",
       "      <td>9va584</td>\n",
       "      <td>https://www.reddit.com/r/FakeFacts/comments/9v...</td>\n",
       "      <td>57</td>\n",
       "      <td>1.541714e+09</td>\n",
       "      <td>NaN</td>\n",
       "      <td>0</td>\n",
       "    </tr>\n",
       "    <tr>\n",
       "      <th>2</th>\n",
       "      <td>until 1939, H2O wasn't water. Water was origin...</td>\n",
       "      <td>731</td>\n",
       "      <td>9uwj3y</td>\n",
       "      <td>https://www.reddit.com/r/FakeFacts/comments/9u...</td>\n",
       "      <td>12</td>\n",
       "      <td>1.541597e+09</td>\n",
       "      <td>NaN</td>\n",
       "      <td>0</td>\n",
       "    </tr>\n",
       "    <tr>\n",
       "      <th>3</th>\n",
       "      <td>If you changed the date on your iPhone to one ...</td>\n",
       "      <td>653</td>\n",
       "      <td>9uficc</td>\n",
       "      <td>https://www.reddit.com/r/FakeFacts/comments/9u...</td>\n",
       "      <td>9</td>\n",
       "      <td>1.541468e+09</td>\n",
       "      <td>NaN</td>\n",
       "      <td>0</td>\n",
       "    </tr>\n",
       "    <tr>\n",
       "      <th>4</th>\n",
       "      <td>A Female Peacock is Called a Peacunt</td>\n",
       "      <td>640</td>\n",
       "      <td>9vdks8</td>\n",
       "      <td>https://www.reddit.com/r/FakeFacts/comments/9v...</td>\n",
       "      <td>21</td>\n",
       "      <td>1.541737e+09</td>\n",
       "      <td>Edit: Thanks for the Silver!</td>\n",
       "      <td>0</td>\n",
       "    </tr>\n",
       "  </tbody>\n",
       "</table>\n",
       "</div>"
      ],
      "text/plain": [
       "                                               title  score      id  \\\n",
       "0  Before his death, John F. Kennedy's original n...    881  9hp7cr   \n",
       "1  Jumping was created by Thomas Jump when he tri...    761  9va584   \n",
       "2  until 1939, H2O wasn't water. Water was origin...    731  9uwj3y   \n",
       "3  If you changed the date on your iPhone to one ...    653  9uficc   \n",
       "4               A Female Peacock is Called a Peacunt    640  9vdks8   \n",
       "\n",
       "                                                 url  comms_num       created  \\\n",
       "0  https://www.reddit.com/r/FakeFacts/comments/9h...         37  1.537561e+09   \n",
       "1  https://www.reddit.com/r/FakeFacts/comments/9v...         57  1.541714e+09   \n",
       "2  https://www.reddit.com/r/FakeFacts/comments/9u...         12  1.541597e+09   \n",
       "3  https://www.reddit.com/r/FakeFacts/comments/9u...          9  1.541468e+09   \n",
       "4  https://www.reddit.com/r/FakeFacts/comments/9v...         21  1.541737e+09   \n",
       "\n",
       "                           body  subreddit_science  \n",
       "0                           NaN                  0  \n",
       "1                           NaN                  0  \n",
       "2                           NaN                  0  \n",
       "3                           NaN                  0  \n",
       "4  Edit: Thanks for the Silver!                  0  "
      ]
     },
     "execution_count": 4,
     "metadata": {},
     "output_type": "execute_result"
    }
   ],
   "source": [
    "# Preview data\n",
    "posts.head()"
   ]
  },
  {
   "cell_type": "markdown",
   "metadata": {},
   "source": [
    "### Baseline Accuracy"
   ]
  },
  {
   "cell_type": "code",
   "execution_count": 5,
   "metadata": {},
   "outputs": [
    {
     "data": {
      "text/plain": [
       "1    0.502283\n",
       "0    0.497717\n",
       "Name: subreddit_science, dtype: float64"
      ]
     },
     "execution_count": 5,
     "metadata": {},
     "output_type": "execute_result"
    }
   ],
   "source": [
    "posts['subreddit_science'].value_counts(normalize=True)"
   ]
  },
  {
   "cell_type": "markdown",
   "metadata": {},
   "source": [
    "### Metrics Function"
   ]
  },
  {
   "cell_type": "code",
   "execution_count": 6,
   "metadata": {},
   "outputs": [],
   "source": [
    "def metrics(model, X_test, y_test):\n",
    "    y_predictions = model.predict(X_test)\n",
    "    tn, fp, fn, tp = confusion_matrix(y_test, y_predictions).ravel()\n",
    "    plot_confusion_matrix(model, X_test, y_test, cmap='Blues', values_format='d');\n",
    "    \n",
    "    accuracy = (tp + tn)/ (tp + tn + fp + fn)\n",
    "    sensitivity = tp/(tp + fn)\n",
    "    specificity = tn/(tn + fp)\n",
    "    precision = tp/(tp + fp)\n",
    "    \n",
    "    print(f'***Metrics for {model}***')\n",
    "    print(f'Accuracy = {accuracy}')\n",
    "    print(f'Sensitivity = {sensitivity}')\n",
    "    print(f'Specificity = {specificity}')\n",
    "    print(f'Precision = {precision}')\n",
    "    \n",
    "    return "
   ]
  },
  {
   "cell_type": "markdown",
   "metadata": {},
   "source": [
    "### Split Data"
   ]
  },
  {
   "cell_type": "code",
   "execution_count": 7,
   "metadata": {},
   "outputs": [],
   "source": [
    "# Create a variable to store the target column name. Use this variable name throughtout this notebook to refer to the \n",
    "# target for modeling\n",
    "target = [each for each in posts.columns if each.startswith('subreddit')][0]"
   ]
  },
  {
   "cell_type": "code",
   "execution_count": 8,
   "metadata": {},
   "outputs": [],
   "source": [
    "# Create a variable to store the feature column name. Use this variable name throughtout this notebook to refer to the \n",
    "# feature used for modeling\n",
    "feature = 'title'"
   ]
  },
  {
   "cell_type": "code",
   "execution_count": 9,
   "metadata": {},
   "outputs": [],
   "source": [
    "# Set X and y\n",
    "X = posts[feature]\n",
    "y = posts[target]"
   ]
  },
  {
   "cell_type": "code",
   "execution_count": 10,
   "metadata": {},
   "outputs": [],
   "source": [
    "# Split into training and testing sets\n",
    "X_train, X_test, y_train, y_test = train_test_split(X, y, random_state=42, stratify=y)"
   ]
  },
  {
   "cell_type": "markdown",
   "metadata": {},
   "source": [
    "# Modeling\n",
    "\n",
    "### Logistic Regression \n",
    "\n",
    "Use CountVectorizer to transform the feature column \"Title\" into words"
   ]
  },
  {
   "cell_type": "code",
   "execution_count": 11,
   "metadata": {},
   "outputs": [],
   "source": [
    "# Create a pipe object for CountVectorizer and Logistic Regression\n",
    "logreg_pipe = Pipeline([\n",
    "    ('cvec', CountVectorizer(stop_words='english')),\n",
    "    ('logreg', LogisticRegression())\n",
    "])"
   ]
  },
  {
   "cell_type": "code",
   "execution_count": 111,
   "metadata": {},
   "outputs": [],
   "source": [
    "# Create a dictionary of the hyperparameters to grid serch in the model\n",
    "logreg_params = {\n",
    "    'cvec__max_features': [500, 1000, 1500],\n",
    "    'cvec__stop_words': [None, 'english'],\n",
    "    'cvec__min_df': [1, 2, 3], \n",
    "    'cvec__max_df': [.9, .95], \n",
    "    'logreg__C':[0.5, 1],\n",
    "    'logreg__penalty': ['l1'],\n",
    "    'logreg__solver':['liblinear']\n",
    "}"
   ]
  },
  {
   "cell_type": "code",
   "execution_count": 112,
   "metadata": {},
   "outputs": [],
   "source": [
    "# Create an instance of GridSearch CV\n",
    "grid_search_logreg = GridSearchCV(logreg_pipe, logreg_params, cv=5) "
   ]
  },
  {
   "cell_type": "code",
   "execution_count": 113,
   "metadata": {},
   "outputs": [
    {
     "data": {
      "text/plain": [
       "GridSearchCV(cv=5,\n",
       "             estimator=Pipeline(steps=[('cvec',\n",
       "                                        CountVectorizer(stop_words='english')),\n",
       "                                       ('logreg', LogisticRegression())]),\n",
       "             param_grid={'cvec__max_df': [0.9, 0.95],\n",
       "                         'cvec__max_features': [500, 1000, 1500],\n",
       "                         'cvec__min_df': [1, 2, 3],\n",
       "                         'cvec__stop_words': [None, 'english'],\n",
       "                         'logreg__C': [0.5, 1], 'logreg__penalty': ['l1'],\n",
       "                         'logreg__solver': ['liblinear']})"
      ]
     },
     "execution_count": 113,
     "metadata": {},
     "output_type": "execute_result"
    }
   ],
   "source": [
    "grid_search_logreg.fit(X_train, y_train)"
   ]
  },
  {
   "cell_type": "code",
   "execution_count": 114,
   "metadata": {},
   "outputs": [
    {
     "data": {
      "text/plain": [
       "0.9093357764544205"
      ]
     },
     "execution_count": 114,
     "metadata": {},
     "output_type": "execute_result"
    }
   ],
   "source": [
    "grid_search_logreg.best_score_"
   ]
  },
  {
   "cell_type": "code",
   "execution_count": 115,
   "metadata": {},
   "outputs": [
    {
     "data": {
      "text/plain": [
       "{'cvec__max_df': 0.9,\n",
       " 'cvec__max_features': 1000,\n",
       " 'cvec__min_df': 3,\n",
       " 'cvec__stop_words': None,\n",
       " 'logreg__C': 1,\n",
       " 'logreg__penalty': 'l1',\n",
       " 'logreg__solver': 'liblinear'}"
      ]
     },
     "execution_count": 115,
     "metadata": {},
     "output_type": "execute_result"
    }
   ],
   "source": [
    "grid_search_logreg.best_params_"
   ]
  },
  {
   "cell_type": "code",
   "execution_count": 116,
   "metadata": {
    "scrolled": false
   },
   "outputs": [
    {
     "data": {
      "text/plain": [
       "0.979702300405954"
      ]
     },
     "execution_count": 116,
     "metadata": {},
     "output_type": "execute_result"
    }
   ],
   "source": [
    "grid_search_logreg.score(X_train, y_train)"
   ]
  },
  {
   "cell_type": "code",
   "execution_count": 117,
   "metadata": {},
   "outputs": [
    {
     "data": {
      "text/plain": [
       "0.920892494929006"
      ]
     },
     "execution_count": 117,
     "metadata": {},
     "output_type": "execute_result"
    }
   ],
   "source": [
    "grid_search_logreg.score(X_test, y_test)"
   ]
  },
  {
   "cell_type": "markdown",
   "metadata": {},
   "source": [
    "Evaluate this Logistic Regression Model"
   ]
  },
  {
   "cell_type": "code",
   "execution_count": 118,
   "metadata": {},
   "outputs": [
    {
     "name": "stdout",
     "output_type": "stream",
     "text": [
      "***Metrics for GridSearchCV(cv=5,\n",
      "             estimator=Pipeline(steps=[('cvec',\n",
      "                                        CountVectorizer(stop_words='english')),\n",
      "                                       ('logreg', LogisticRegression())]),\n",
      "             param_grid={'cvec__max_df': [0.9, 0.95],\n",
      "                         'cvec__max_features': [500, 1000, 1500],\n",
      "                         'cvec__min_df': [1, 2, 3],\n",
      "                         'cvec__stop_words': [None, 'english'],\n",
      "                         'logreg__C': [0.5, 1], 'logreg__penalty': ['l1'],\n",
      "                         'logreg__solver': ['liblinear']})***\n",
      "Accuracy = 0.920892494929006\n",
      "Sensitivity = 0.8790322580645161\n",
      "Specificity = 0.963265306122449\n",
      "Precision = 0.960352422907489\n"
     ]
    },
    {
     "data": {
      "image/png": "[encoded data removed]",
      "text/plain": [
       "<Figure size 432x288 with 2 Axes>"
      ]
     },
     "metadata": {
      "needs_background": "light"
     },
     "output_type": "display_data"
    }
   ],
   "source": [
    "metrics(grid_search_logreg, X_test, y_test)"
   ]
  },
  {
   "cell_type": "markdown",
   "metadata": {},
   "source": [
    "### Multinomial NB\n",
    "Hyperparameters in CountVectorizer: stop_words, max_features, max_df, min_df, ngram_range"
   ]
  },
  {
   "cell_type": "code",
   "execution_count": 218,
   "metadata": {},
   "outputs": [],
   "source": [
    "# Reset X_train, X_test, y_train, y_test\n",
    "X_train, X_test, y_train, y_test = train_test_split(X, y, random_state=42, stratify=y)"
   ]
  },
  {
   "cell_type": "code",
   "execution_count": 219,
   "metadata": {},
   "outputs": [],
   "source": [
    "nb_pipe = Pipeline([\n",
    "    ('cvec', TfidfVectorizer(stop_words='english')),\n",
    "    ('nb', MultinomialNB())\n",
    "])"
   ]
  },
  {
   "cell_type": "code",
   "execution_count": 220,
   "metadata": {},
   "outputs": [],
   "source": [
    "nb_params = { \n",
    "    'cvec__stop_words': [None, 'english'],\n",
    "    'cvec__min_df': [1, 2, 3], \n",
    "    'cvec__max_df': [.9, .95], \n",
    "    'cvec__ngram_range': [(1,1),(2,2)]\n",
    "}"
   ]
  },
  {
   "cell_type": "code",
   "execution_count": 221,
   "metadata": {},
   "outputs": [],
   "source": [
    "grid_search_nb = GridSearchCV(nb_pipe, nb_params, cv=5) "
   ]
  },
  {
   "cell_type": "code",
   "execution_count": 222,
   "metadata": {},
   "outputs": [
    {
     "data": {
      "text/plain": [
       "GridSearchCV(cv=5,\n",
       "             estimator=Pipeline(steps=[('cvec',\n",
       "                                        TfidfVectorizer(stop_words='english')),\n",
       "                                       ('nb', MultinomialNB())]),\n",
       "             param_grid={'cvec__max_df': [0.9, 0.95], 'cvec__min_df': [1, 2, 3],\n",
       "                         'cvec__ngram_range': [(1, 1), (2, 2)],\n",
       "                         'cvec__stop_words': [None, 'english']})"
      ]
     },
     "execution_count": 222,
     "metadata": {},
     "output_type": "execute_result"
    }
   ],
   "source": [
    "grid_search_nb.fit(X_train, y_train)"
   ]
  },
  {
   "cell_type": "code",
   "execution_count": 223,
   "metadata": {},
   "outputs": [
    {
     "data": {
      "text/plain": [
       "0.9127393495190106"
      ]
     },
     "execution_count": 223,
     "metadata": {},
     "output_type": "execute_result"
    }
   ],
   "source": [
    "grid_search_nb.best_score_"
   ]
  },
  {
   "cell_type": "code",
   "execution_count": 224,
   "metadata": {},
   "outputs": [
    {
     "data": {
      "text/plain": [
       "0.9749661705006766"
      ]
     },
     "execution_count": 224,
     "metadata": {},
     "output_type": "execute_result"
    }
   ],
   "source": [
    "grid_search_nb.score(X_train, y_train)"
   ]
  },
  {
   "cell_type": "code",
   "execution_count": 225,
   "metadata": {},
   "outputs": [
    {
     "data": {
      "text/plain": [
       "0.9188640973630832"
      ]
     },
     "execution_count": 225,
     "metadata": {},
     "output_type": "execute_result"
    }
   ],
   "source": [
    "grid_search_nb.score(X_test, y_test)"
   ]
  },
  {
   "cell_type": "code",
   "execution_count": 226,
   "metadata": {},
   "outputs": [
    {
     "data": {
      "text/plain": [
       "{'cvec__max_df': 0.9,\n",
       " 'cvec__min_df': 2,\n",
       " 'cvec__ngram_range': (1, 1),\n",
       " 'cvec__stop_words': None}"
      ]
     },
     "execution_count": 226,
     "metadata": {},
     "output_type": "execute_result"
    }
   ],
   "source": [
    "grid_search_nb.best_params_"
   ]
  },
  {
   "cell_type": "code",
   "execution_count": 227,
   "metadata": {},
   "outputs": [
    {
     "name": "stdout",
     "output_type": "stream",
     "text": [
      "***Metrics for GridSearchCV(cv=5,\n",
      "             estimator=Pipeline(steps=[('cvec',\n",
      "                                        TfidfVectorizer(stop_words='english')),\n",
      "                                       ('nb', MultinomialNB())]),\n",
      "             param_grid={'cvec__max_df': [0.9, 0.95], 'cvec__min_df': [1, 2, 3],\n",
      "                         'cvec__ngram_range': [(1, 1), (2, 2)],\n",
      "                         'cvec__stop_words': [None, 'english']})***\n",
      "Accuracy = 0.9188640973630832\n",
      "Sensitivity = 0.9637096774193549\n",
      "Specificity = 0.8734693877551021\n",
      "Precision = 0.8851851851851852\n"
     ]
    },
    {
     "data": {
      "image/png": "[encoded data removed]",
      "text/plain": [
       "<Figure size 432x288 with 2 Axes>"
      ]
     },
     "metadata": {
      "needs_background": "light"
     },
     "output_type": "display_data"
    }
   ],
   "source": [
    "metrics(grid_search_nb, X_test, y_test)"
   ]
  },
  {
   "cell_type": "markdown",
   "metadata": {},
   "source": [
    "### Term Frequency-Inverse Document Frequency (TF-IDF) Vectorizer"
   ]
  },
  {
   "cell_type": "code",
   "execution_count": 196,
   "metadata": {},
   "outputs": [],
   "source": [
    "# Reset X_train, X_test, y_train, y_test\n",
    "X_train, X_test, y_train, y_test = train_test_split(X, y, random_state=42, stratify=y)"
   ]
  },
  {
   "cell_type": "code",
   "execution_count": 197,
   "metadata": {},
   "outputs": [],
   "source": [
    "pipe_tf_vec = Pipeline([\n",
    "    ('tf_vec', TfidfVectorizer()),\n",
    "    ('log_reg', LogisticRegression())  \n",
    "])"
   ]
  },
  {
   "cell_type": "code",
   "execution_count": 201,
   "metadata": {},
   "outputs": [],
   "source": [
    "tf_vec_params = {\n",
    "    'tf_vec__max_features':[500, 1000],\n",
    "    'tf_vec__stop_words': [None,'english'],\n",
    "    'tf_vec__ngram_range':[(1,1),(1,2)],\n",
    "    'tf_vec__min_df': [1, 2, 3], \n",
    "    'tf_vec__max_df': [.9, .95], \n",
    "    #'log_reg__C':[0.2, 0.5, 1],\n",
    "    'log_reg__penalty': ['l1'],\n",
    "    'log_reg__solver':['liblinear']\n",
    "}\n"
   ]
  },
  {
   "cell_type": "code",
   "execution_count": 202,
   "metadata": {},
   "outputs": [],
   "source": [
    "gs_tf_vec = GridSearchCV(pipe_tf_vec, tf_vec_params, cv=5, verbose=1)"
   ]
  },
  {
   "cell_type": "code",
   "execution_count": 203,
   "metadata": {},
   "outputs": [
    {
     "name": "stdout",
     "output_type": "stream",
     "text": [
      "Fitting 5 folds for each of 48 candidates, totalling 240 fits\n"
     ]
    },
    {
     "name": "stderr",
     "output_type": "stream",
     "text": [
      "[Parallel(n_jobs=1)]: Using backend SequentialBackend with 1 concurrent workers.\n",
      "[Parallel(n_jobs=1)]: Done 240 out of 240 | elapsed:   17.4s finished\n"
     ]
    },
    {
     "data": {
      "text/plain": [
       "GridSearchCV(cv=5,\n",
       "             estimator=Pipeline(steps=[('tf_vec', TfidfVectorizer()),\n",
       "                                       ('log_reg', LogisticRegression())]),\n",
       "             param_grid={'log_reg__penalty': ['l1'],\n",
       "                         'log_reg__solver': ['liblinear'],\n",
       "                         'tf_vec__max_df': [0.9, 0.95],\n",
       "                         'tf_vec__max_features': [500, 1000],\n",
       "                         'tf_vec__min_df': [1, 2, 3],\n",
       "                         'tf_vec__ngram_range': [(1, 1), (1, 2)],\n",
       "                         'tf_vec__stop_words': [None, 'english']},\n",
       "             verbose=1)"
      ]
     },
     "execution_count": 203,
     "metadata": {},
     "output_type": "execute_result"
    }
   ],
   "source": [
    "gs_tf_vec.fit(X_train, y_train)"
   ]
  },
  {
   "cell_type": "code",
   "execution_count": 204,
   "metadata": {},
   "outputs": [
    {
     "data": {
      "text/plain": [
       "0.8775355016032982"
      ]
     },
     "execution_count": 204,
     "metadata": {},
     "output_type": "execute_result"
    }
   ],
   "source": [
    "gs_tf_vec.best_score_"
   ]
  },
  {
   "cell_type": "code",
   "execution_count": 205,
   "metadata": {},
   "outputs": [
    {
     "data": {
      "text/plain": [
       "{'log_reg__penalty': 'l1',\n",
       " 'log_reg__solver': 'liblinear',\n",
       " 'tf_vec__max_df': 0.9,\n",
       " 'tf_vec__max_features': 500,\n",
       " 'tf_vec__min_df': 2,\n",
       " 'tf_vec__ngram_range': (1, 1),\n",
       " 'tf_vec__stop_words': None}"
      ]
     },
     "execution_count": 205,
     "metadata": {},
     "output_type": "execute_result"
    }
   ],
   "source": [
    "gs_tf_vec.best_params_"
   ]
  },
  {
   "cell_type": "code",
   "execution_count": 206,
   "metadata": {},
   "outputs": [
    {
     "data": {
      "text/plain": [
       "(0.9181326116373477, 0.9026369168356998)"
      ]
     },
     "execution_count": 206,
     "metadata": {},
     "output_type": "execute_result"
    }
   ],
   "source": [
    "gs_tf_vec.score(X_train, y_train), gs_tf_vec.score(X_test, y_test)"
   ]
  },
  {
   "cell_type": "code",
   "execution_count": 207,
   "metadata": {},
   "outputs": [
    {
     "name": "stdout",
     "output_type": "stream",
     "text": [
      "***Metrics for GridSearchCV(cv=5,\n",
      "             estimator=Pipeline(steps=[('tf_vec', TfidfVectorizer()),\n",
      "                                       ('log_reg', LogisticRegression())]),\n",
      "             param_grid={'log_reg__penalty': ['l1'],\n",
      "                         'log_reg__solver': ['liblinear'],\n",
      "                         'tf_vec__max_df': [0.9, 0.95],\n",
      "                         'tf_vec__max_features': [500, 1000],\n",
      "                         'tf_vec__min_df': [1, 2, 3],\n",
      "                         'tf_vec__ngram_range': [(1, 1), (1, 2)],\n",
      "                         'tf_vec__stop_words': [None, 'english']},\n",
      "             verbose=1)***\n",
      "Accuracy = 0.9026369168356998\n",
      "Sensitivity = 0.8709677419354839\n",
      "Specificity = 0.9346938775510204\n",
      "Precision = 0.9310344827586207\n"
     ]
    },
    {
     "data": {
      "image/png": "[encoded data removed]",
      "text/plain": [
       "<Figure size 432x288 with 2 Axes>"
      ]
     },
     "metadata": {
      "needs_background": "light"
     },
     "output_type": "display_data"
    }
   ],
   "source": [
    "metrics(gs_tf_vec, X_test, y_test)"
   ]
  },
  {
   "cell_type": "markdown",
   "metadata": {},
   "source": [
    "### Random Forest"
   ]
  },
  {
   "cell_type": "code",
   "execution_count": 228,
   "metadata": {},
   "outputs": [],
   "source": [
    "# Reset X_train, X_test, y_train, y_test\n",
    "X_train, X_test, y_train, y_test = train_test_split(X, y, random_state=42, stratify=y)"
   ]
  },
  {
   "cell_type": "code",
   "execution_count": 229,
   "metadata": {},
   "outputs": [],
   "source": [
    "rf_pipe = Pipeline([\n",
    "    ('tf_vec', TfidfVectorizer()),\n",
    "    ('rf', RandomForestClassifier())\n",
    "])"
   ]
  },
  {
   "cell_type": "code",
   "execution_count": 233,
   "metadata": {},
   "outputs": [],
   "source": [
    "rf_params = {\n",
    "    'tf_vec__max_features': [1000, 3000],\n",
    "    'tf_vec__stop_words': [None, 'english'],\n",
    "    'tf_vec__ngram_range': [(1,1),(1,2)],\n",
    "    'tf_vec__use_idf' : [ True, False],\n",
    "    'rf__n_estimators': [80, 90, 100],\n",
    "    'rf__max_depth': [None, 2],\n",
    "    'rf__max_features': ['auto', None]\n",
    "}"
   ]
  },
  {
   "cell_type": "code",
   "execution_count": 234,
   "metadata": {},
   "outputs": [],
   "source": [
    "rf_gs = GridSearchCV(rf_pipe, rf_params, cv=5)"
   ]
  },
  {
   "cell_type": "code",
   "execution_count": 235,
   "metadata": {},
   "outputs": [
    {
     "data": {
      "text/plain": [
       "GridSearchCV(cv=5,\n",
       "             estimator=Pipeline(steps=[('tf_vec', TfidfVectorizer()),\n",
       "                                       ('rf', RandomForestClassifier())]),\n",
       "             param_grid={'rf__max_depth': [None, 2],\n",
       "                         'rf__max_features': ['auto', None],\n",
       "                         'rf__n_estimators': [80, 90, 100],\n",
       "                         'tf_vec__max_features': [1000, 3000],\n",
       "                         'tf_vec__ngram_range': [(1, 1), (1, 2)],\n",
       "                         'tf_vec__stop_words': [None, 'english'],\n",
       "                         'tf_vec__use_idf': [True, False]})"
      ]
     },
     "execution_count": 235,
     "metadata": {},
     "output_type": "execute_result"
    }
   ],
   "source": [
    "rf_gs.fit(X_train, y_train)"
   ]
  },
  {
   "cell_type": "code",
   "execution_count": 236,
   "metadata": {},
   "outputs": [
    {
     "data": {
      "text/plain": [
       "(1.0, 0.922920892494929)"
      ]
     },
     "execution_count": 236,
     "metadata": {},
     "output_type": "execute_result"
    }
   ],
   "source": [
    "rf_gs.score(X_train, y_train), rf_gs.score(X_test, y_test)"
   ]
  },
  {
   "cell_type": "code",
   "execution_count": 237,
   "metadata": {},
   "outputs": [
    {
     "data": {
      "text/plain": [
       "0.9039418231791114"
      ]
     },
     "execution_count": 237,
     "metadata": {},
     "output_type": "execute_result"
    }
   ],
   "source": [
    "rf_gs.best_score_"
   ]
  },
  {
   "cell_type": "code",
   "execution_count": 238,
   "metadata": {},
   "outputs": [
    {
     "data": {
      "text/plain": [
       "{'rf__max_depth': None,\n",
       " 'rf__max_features': 'auto',\n",
       " 'rf__n_estimators': 90,\n",
       " 'tf_vec__max_features': 1000,\n",
       " 'tf_vec__ngram_range': (1, 2),\n",
       " 'tf_vec__stop_words': None,\n",
       " 'tf_vec__use_idf': False}"
      ]
     },
     "execution_count": 238,
     "metadata": {},
     "output_type": "execute_result"
    }
   ],
   "source": [
    "rf_gs.best_params_"
   ]
  },
  {
   "cell_type": "code",
   "execution_count": 239,
   "metadata": {},
   "outputs": [
    {
     "data": {
      "text/plain": [
       "Pipeline(steps=[('tf_vec',\n",
       "                 TfidfVectorizer(max_features=1000, ngram_range=(1, 2),\n",
       "                                 use_idf=False)),\n",
       "                ('rf', RandomForestClassifier(n_estimators=90))])"
      ]
     },
     "execution_count": 239,
     "metadata": {},
     "output_type": "execute_result"
    }
   ],
   "source": [
    "rf_gs.best_estimator_"
   ]
  },
  {
   "cell_type": "code",
   "execution_count": 240,
   "metadata": {},
   "outputs": [
    {
     "name": "stdout",
     "output_type": "stream",
     "text": [
      "***Metrics for GridSearchCV(cv=5,\n",
      "             estimator=Pipeline(steps=[('tf_vec', TfidfVectorizer()),\n",
      "                                       ('rf', RandomForestClassifier())]),\n",
      "             param_grid={'rf__max_depth': [None, 2],\n",
      "                         'rf__max_features': ['auto', None],\n",
      "                         'rf__n_estimators': [80, 90, 100],\n",
      "                         'tf_vec__max_features': [1000, 3000],\n",
      "                         'tf_vec__ngram_range': [(1, 1), (1, 2)],\n",
      "                         'tf_vec__stop_words': [None, 'english'],\n",
      "                         'tf_vec__use_idf': [True, False]})***\n",
      "Accuracy = 0.922920892494929\n",
      "Sensitivity = 0.8830645161290323\n",
      "Specificity = 0.963265306122449\n",
      "Precision = 0.9605263157894737\n"
     ]
    },
    {
     "data": {
      "image/png": "[encoded data removed]",
      "text/plain": [
       "<Figure size 432x288 with 2 Axes>"
      ]
     },
     "metadata": {
      "needs_background": "light"
     },
     "output_type": "display_data"
    }
   ],
   "source": [
    "metrics(rf_gs, X_test, y_test)"
   ]
  },
  {
   "cell_type": "code",
   "execution_count": null,
   "metadata": {},
   "outputs": [],
   "source": []
  }
 ],
 "metadata": {
  "kernelspec": {
   "display_name": "Python 3",
   "language": "python",
   "name": "python3"
  },
  "language_info": {
   "codemirror_mode": {
    "name": "ipython",
    "version": 3
   },
   "file_extension": ".py",
   "mimetype": "text/x-python",
   "name": "python",
   "nbconvert_exporter": "python",
   "pygments_lexer": "ipython3",
   "version": "3.8.3"
  }
 },
 "nbformat": 4,
 "nbformat_minor": 4
}
